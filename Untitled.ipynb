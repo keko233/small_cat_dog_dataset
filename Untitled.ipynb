{
 "cells": [
  {
   "cell_type": "code",
   "execution_count": 39,
   "metadata": {},
   "outputs": [
    {
     "name": "stdout",
     "output_type": "stream",
     "text": [
      "D:\\cat-dog-dataset\\train\\train\n",
      "[info] creating 'D:\\small_dataset\\validation' directory\n",
      "[info] creating 'D:\\small_dataset\\test\\cat' directory\n",
      "[info] creating 'D:\\small_dataset\\test\\dog' directory\n",
      "[info] creating 'D:\\small_dataset\\validation\\cat' directory\n",
      "[info] creating 'D:\\small_dataset\\validation\\dog' directory\n"
     ]
    }
   ],
   "source": [
    "# -*- coding:utf-8 -*-\n",
    "import os\n",
    "from imutils import paths\n",
    "import shutil\n",
    "\n",
    "base_path = \"D:\\cat-dog-dataset\"\n",
    "save_path = \"D:\\small_dataset\"\n",
    "\n",
    "train_path = os.path.sep.join([base_path, \"train\", \"train\"])\n",
    "test_path = os.path.sep.join([base_path, \"test1\", \"test1\"])\n",
    "print(train_path)\n",
    "\n",
    "small_train_path = os.path.sep.join([save_path, \"train\"])\n",
    "small_test_path = os.path.sep.join([save_path, \"test\"])\n",
    "small_val_path = os.path.sep.join([save_path, 'validation'])\n",
    "if not os.path.exists(small_train_path):\n",
    "    print(\"[info] creating '{}' directory\".format(small_train_path))\n",
    "    os.makedirs(small_train_path)\n",
    "if not os.path.exists(small_test_path):\n",
    "    print(\"[info] creating '{}' directory\".format(small_test_path))\n",
    "    os.makedirs(small_test_path)\n",
    "if not os.path.exists(small_val_path):\n",
    "    print(\"[info] creating '{}' directory\".format(small_val_path))\n",
    "    os.makedirs(small_val_path)\n",
    "    \n",
    "dataset = (small_train_path, small_test_path, small_val_path)\n",
    "for input_path in dataset:\n",
    "    cat_path = os.path.sep.join([input_path, \"cat\"])\n",
    "    dog_path = os.path.sep.join([input_path, \"dog\"])\n",
    "    if not os.path.exists(cat_path):\n",
    "        print(\"[info] creating '{}' directory\".format(cat_path))\n",
    "        os.makedirs(cat_path)\n",
    "    if not os.path.exists(dog_path):\n",
    "        print(\"[info] creating '{}' directory\".format(dog_path))\n",
    "        os.makedirs(dog_path)\n",
    "    \n",
    "    \n",
    "#cat_path = os.path.sep.join([small_train_path, \"cat\"])\n",
    "#dog_path = os.path.sep.join([small_train_path, \"dog\"])\n",
    "#if not os.path.exists(cat_path):\n",
    "#    print(\"[info] creating '{}' directory\".format(cat_path))\n",
    "#    os.makedirs(cat_path)\n",
    "#if not os.path.exists(dog_path):\n",
    "#    print(\"[info] creating '{}' directory\".format(dog_path))\n",
    "#    os.makedirs(dog_path)"
   ]
  },
  {
   "cell_type": "code",
   "execution_count": 31,
   "metadata": {},
   "outputs": [
    {
     "name": "stdout",
     "output_type": "stream",
     "text": [
      "37500\n",
      "['D:\\\\cat-dog-dataset\\\\test1\\\\test1\\\\1.jpg', 'D:\\\\cat-dog-dataset\\\\test1\\\\test1\\\\10.jpg', 'D:\\\\cat-dog-dataset\\\\test1\\\\test1\\\\100.jpg', 'D:\\\\cat-dog-dataset\\\\test1\\\\test1\\\\1000.jpg', 'D:\\\\cat-dog-dataset\\\\test1\\\\test1\\\\10000.jpg', 'D:\\\\cat-dog-dataset\\\\test1\\\\test1\\\\10001.jpg']\n"
     ]
    }
   ],
   "source": [
    "imagepath = list(paths.list_images(base_path))\n",
    "print(len(imagepath))\n",
    "print(imagepath[0:6])"
   ]
  },
  {
   "cell_type": "code",
   "execution_count": 47,
   "metadata": {},
   "outputs": [
    {
     "name": "stdout",
     "output_type": "stream",
     "text": [
      "25000\n",
      "['D:\\\\cat-dog-dataset\\\\train\\\\train\\\\cat.0.jpg', 'D:\\\\cat-dog-dataset\\\\train\\\\train\\\\cat.1.jpg', 'D:\\\\cat-dog-dataset\\\\train\\\\train\\\\cat.10.jpg', 'D:\\\\cat-dog-dataset\\\\train\\\\train\\\\cat.100.jpg', 'D:\\\\cat-dog-dataset\\\\train\\\\train\\\\cat.1000.jpg', 'D:\\\\cat-dog-dataset\\\\train\\\\train\\\\cat.10000.jpg']\n"
     ]
    }
   ],
   "source": [
    "trainpath = list(paths.list_images(train_path))\n",
    "print(len(trainpath))\n",
    "print(trainpath[0:6])\n",
    "testpath_cat = trainpath[10001:10201]\n",
    "valpath_cat = trainpath[10201:10301]\n",
    "testpath_dog = trainpath[14500:14700]\n",
    "valpath_dog = trainpath[14701:14801]\n",
    "\n",
    "\n"
   ]
  },
  {
   "cell_type": "code",
   "execution_count": 52,
   "metadata": {},
   "outputs": [],
   "source": [
    "test_cat = os.path.sep.join([small_test_path, \"cat\"])\n",
    "test_dog = os.path.sep.join([small_test_path, \"dog\"])\n",
    "val_cat = os.path.sep.join([small_val_path, \"cat\"])\n",
    "val_dog = os.path.sep.join([small_val_path, \"dog\"])\n",
    "train_cat = os.path.sep.join([small_train_path, \"cat\"])\n",
    "train_dog = os.path.sep.join([small_train_path, \"dog\"])\n",
    "\n",
    "data =([test_cat, testpath_cat],\n",
    "      [test_dog, testpath_dog],\n",
    "      [val_cat, valpath_cat],\n",
    "      [val_dog, valpath_dog]) "
   ]
  },
  {
   "cell_type": "code",
   "execution_count": 50,
   "metadata": {},
   "outputs": [],
   "source": [
    "for name, path in data:\n",
    "    for file in path:\n",
    "            shutil.copy2(file,name )\n",
    "        "
   ]
  },
  {
   "cell_type": "code",
   "execution_count": 53,
   "metadata": {
    "scrolled": false
   },
   "outputs": [],
   "source": [
    "for file in trainpath:\n",
    "    #print(file)\n",
    "    _ ,filenames = os.path.split(file)\n",
    "    if filenames[0:3] == 'cat':\n",
    "        if(len(list(paths.list_images(train_cat)))== 1000):\n",
    "            continue\n",
    "        shutil.copy2(file, train_cat)\n",
    "    elif filenames[0:3] == 'dog':\n",
    "        if(len(list(paths.list_images(train_dog)))== 1000):\n",
    "            continue \n",
    "        shutil.copy2(file, train_dog)\n",
    "        \n",
    "    #print(filenames)"
   ]
  },
  {
   "cell_type": "code",
   "execution_count": 54,
   "metadata": {},
   "outputs": [
    {
     "name": "stdout",
     "output_type": "stream",
     "text": [
      "D:\\small_dataset\\train\n"
     ]
    }
   ],
   "source": [
    "print(small_train_path)"
   ]
  },
  {
   "cell_type": "code",
   "execution_count": null,
   "metadata": {},
   "outputs": [],
   "source": []
  }
 ],
 "metadata": {
  "kernelspec": {
   "display_name": "Python 3",
   "language": "python",
   "name": "python3"
  },
  "language_info": {
   "codemirror_mode": {
    "name": "ipython",
    "version": 3
   },
   "file_extension": ".py",
   "mimetype": "text/x-python",
   "name": "python",
   "nbconvert_exporter": "python",
   "pygments_lexer": "ipython3",
   "version": "3.7.3"
  }
 },
 "nbformat": 4,
 "nbformat_minor": 2
}
